{
 "cells": [
  {
   "cell_type": "code",
   "execution_count": 1,
   "id": "2296b1d2-bd7b-42ef-8784-c5eb5ac7e619",
   "metadata": {},
   "outputs": [
    {
     "name": "stdout",
     "output_type": "stream",
     "text": [
      "/workspace\n"
     ]
    }
   ],
   "source": [
    "%load_ext autoreload\n",
    "%autoreload 2\n",
    "%config Completer.use_jedi = False\n",
    "%cd ../"
   ]
  },
  {
   "cell_type": "markdown",
   "id": "0029f84f-0ed7-48d3-8d9d-435c5a4852ce",
   "metadata": {},
   "source": [
    "# Import Module"
   ]
  },
  {
   "cell_type": "code",
   "execution_count": 53,
   "id": "6d2e5d8c-0c7d-4428-81a2-93b401c3ff44",
   "metadata": {},
   "outputs": [],
   "source": [
    "import json\n",
    "import os\n",
    "\n",
    "import pandas as pd\n",
    "import torch\n",
    "from pyserini.search.lucene import LuceneSearcher\n",
    "from tqdm.auto import tqdm"
   ]
  },
  {
   "cell_type": "markdown",
   "id": "3d77b6ad-6a74-49c9-8299-f3c15848c721",
   "metadata": {},
   "source": [
    "# Load Data"
   ]
  },
  {
   "cell_type": "code",
   "execution_count": 14,
   "id": "2057bd20-aac8-40c0-9a19-78edfe9dbae1",
   "metadata": {},
   "outputs": [
    {
     "name": "stdout",
     "output_type": "stream",
     "text": [
      "# of train data: 1,862\n",
      "# of test data: 827\n"
     ]
    }
   ],
   "source": [
    "train_data_path = \"./data/train.json\"\n",
    "test_data_path = \"./data/test_data.json\"\n",
    "with open(train_data_path, \"r\") as f1, open(test_data_path, \"r\") as f2:\n",
    "    train_data = json.load(f1)\n",
    "    test_data = json.load(f2)\n",
    "test_question = pd.read_csv(\"./data/test_questions.csv\", encoding=\"utf8\")\n",
    "sample = pd.read_csv(\"./data/sample_submission.csv\", encoding=\"utf8\")\n",
    "print(f\"# of train data: {len(train_data['data']):,}\")\n",
    "print(f\"# of test data: {len(test_data['data']):,}\")"
   ]
  },
  {
   "cell_type": "markdown",
   "id": "1b03b718-4cdc-4fbb-9472-1b820b781ac9",
   "metadata": {},
   "source": [
    "---"
   ]
  },
  {
   "cell_type": "markdown",
   "id": "ef161a8c-84d5-43f4-83f0-2bd6275f1150",
   "metadata": {},
   "source": [
    "# BM25 Baseline"
   ]
  },
  {
   "cell_type": "code",
   "execution_count": 33,
   "id": "39b939ce-bb85-4186-aff7-e6f241d9d3e3",
   "metadata": {},
   "outputs": [],
   "source": [
    "contexts = []\n",
    "\n",
    "for data in test_data[\"data\"]:\n",
    "    for paragraph in data[\"paragraphs\"]:\n",
    "        contexts.append(\n",
    "            {\"id\": paragraph[\"paragraph_id\"], \"contents\": paragraph[\"context\"]}\n",
    "        )\n",
    "\n",
    "with open(\"./data/index/test/doc.json\", \"w\", encoding=\"utf8\") as f:\n",
    "    json.dump(contexts, f)"
   ]
  },
  {
   "cell_type": "code",
   "execution_count": null,
   "id": "705367c6-4b0f-4702-92ef-8dd8f8fabbd0",
   "metadata": {},
   "outputs": [],
   "source": [
    "!python -m pyserini.index.lucene \\\n",
    "  --collection JsonCollection \\\n",
    "  --input data/index/test/ \\\n",
    "  --language ko \\\n",
    "  --index data/test.index \\\n",
    "  --generator DefaultLuceneDocumentGenerator \\\n",
    "  --threads 16 \\\n",
    "  --storePositions --storeDocvectors --storeRaw"
   ]
  },
  {
   "cell_type": "code",
   "execution_count": 35,
   "id": "e3afc56c-258d-47cf-85d6-e13cc2e74cb7",
   "metadata": {},
   "outputs": [],
   "source": [
    "searcher = LuceneSearcher(\"./data/test.index\")\n",
    "searcher.set_language(\"ko\")"
   ]
  },
  {
   "cell_type": "code",
   "execution_count": 54,
   "id": "834b0508-13b4-448f-8030-cb2c84a625ff",
   "metadata": {},
   "outputs": [
    {
     "data": {
      "application/vnd.jupyter.widget-view+json": {
       "model_id": "c5c16a40f21940bb99e6fd10e4e3a880",
       "version_major": 2,
       "version_minor": 0
      },
      "text/plain": [
       "  0%|          | 0/11434 [00:00<?, ?it/s]"
      ]
     },
     "metadata": {},
     "output_type": "display_data"
    }
   ],
   "source": [
    "answer = []\n",
    "for q in tqdm(test_question[\"question_text\"]):\n",
    "    answer.append(\",\".join([r.docid for r in searcher.search(q, k=10)]))\n",
    "sample[\"paragraph_id\"] = answer\n",
    "sample.to_csv(\"submission.csv\", index=False)"
   ]
  }
 ],
 "metadata": {
  "kernelspec": {
   "display_name": "Python 3 (ipykernel)",
   "language": "python",
   "name": "python3"
  },
  "language_info": {
   "codemirror_mode": {
    "name": "ipython",
    "version": 3
   },
   "file_extension": ".py",
   "mimetype": "text/x-python",
   "name": "python",
   "nbconvert_exporter": "python",
   "pygments_lexer": "ipython3",
   "version": "3.7.10"
  }
 },
 "nbformat": 4,
 "nbformat_minor": 5
}
