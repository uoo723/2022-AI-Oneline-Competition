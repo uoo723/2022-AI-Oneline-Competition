{
 "cells": [
  {
   "cell_type": "code",
   "execution_count": 1,
   "id": "73288296-2726-4a05-8d7e-416fc54553d3",
   "metadata": {
    "jp-MarkdownHeadingCollapsed": true,
    "tags": []
   },
   "outputs": [],
   "source": [
    "# !pip install rank_bm25"
   ]
  },
  {
   "cell_type": "code",
   "execution_count": 2,
   "id": "95aebd5a-be4b-4f75-9600-9e7004341e71",
   "metadata": {},
   "outputs": [
    {
     "name": "stdout",
     "output_type": "stream",
     "text": [
      "/workspace\n"
     ]
    }
   ],
   "source": [
    "%load_ext autoreload\n",
    "%autoreload 2\n",
    "%config Completer.use_jedi = False\n",
    "%cd ../"
   ]
  },
  {
   "cell_type": "code",
   "execution_count": 3,
   "id": "9bd17bcf-f8ed-42df-bb8c-e066ae4bcb49",
   "metadata": {},
   "outputs": [],
   "source": [
    "# 라이브러리 임포트\n",
    "import json\n",
    "\n",
    "import numpy as np\n",
    "import pandas as pd\n",
    "from joblib import Parallel, delayed\n",
    "from rank_bm25 import BM25Okapi\n",
    "from tqdm.auto import tqdm"
   ]
  },
  {
   "cell_type": "code",
   "execution_count": 4,
   "id": "f254b2bf-b0e4-409d-bddf-bdbb74c17457",
   "metadata": {},
   "outputs": [],
   "source": [
    "# 데이터 로드\n",
    "train = json.load(open(\"./data/train.json\", \"r\", encoding=\"utf8\"))\n",
    "test_data = json.load(open(\"./data/test_data.json\", \"r\", encoding=\"utf8\"))\n",
    "test_question = pd.read_csv(\"./data/test_questions.csv\", encoding=\"utf8\")\n",
    "sample = pd.read_csv(\"./data/sample_submission.csv\", encoding=\"utf8\")"
   ]
  },
  {
   "cell_type": "markdown",
   "id": "f62f5ad3-0d74-4805-81d9-256643e64b63",
   "metadata": {},
   "source": [
    "# bm25 Train Set 성능 확인"
   ]
  },
  {
   "cell_type": "markdown",
   "id": "412f9587-58c0-4edb-a08c-314d9228e2c6",
   "metadata": {},
   "source": [
    "### DATA"
   ]
  },
  {
   "cell_type": "code",
   "execution_count": 12,
   "id": "650a244d-63a5-4184-8fe8-8b9c75749175",
   "metadata": {},
   "outputs": [
    {
     "data": {
      "text/plain": [
       "{'paragraph_id': 'PARS_eWP8RZc99q',\n",
       " 'context': '방사성핵종 별 공기 부피당 방사능 농도(Bq/m3 )는 부피당 분진 농도(μg/L)와 질량당 방사능 농도(Bq/kg) 값을 이용하여 계산 가능하다. 분진이 흩날릴 가능성이 있는 작업 지점에 설치한 광학입자계수기(OPC, Optical Particle Counter)를 활용한 계측과 채취시료의 방사능분석 의뢰 등을 통하여 이 값들을 각각 얻을 수 있다. 선량환산인자(DCF, Dose Conversion Factor)는 원료물질 등이 함유한 방사성핵종의 종류 외에 분진 입자의 크기 및 분포, 밀도, 기하학적 모양, 흡수형태 등 물리화학적 형태에 따라 그 값이 크게 달라진다. 입자의 크기와 분포는 앞서 언급한 OPC를 분석하여 얻은 공기역학적 방사능 중간직경(AMAD, Activity Median Aerodynamic Diameter)과 직경분포에 따른 분산(GSD, Geometric Standard Deviation)으로 결정되며, 입자의 밀도는 Pycnometer 등의 밀도측정장비로 얻을 수 있다. 모양인자는 1로 통일하여 적용되는데 이 값은 1에 가까운 구형일수록 보수적인 평가가 이루어진다는 해외 연구결과를 바탕으로 볼 때 합리적이다.',\n",
       " 'qas': [{'question_id': 'QUES_VzfDEdaQOz',\n",
       "   'question': '공기역학적 방사능 중간직경은 무엇을 분석하여 얻었어'},\n",
       "  {'question_id': 'QUES_RtPCd1sgHS',\n",
       "   'question': '무엇을 검토하여 공기역학적 방사능 중간직경을 얻었니'},\n",
       "  {'question_id': 'QUES_hRDQkUSHzf',\n",
       "   'question': '무엇을 분석하여 구한 것이 공기역학적 방사능 중간직경이지'}]}"
      ]
     },
     "execution_count": 12,
     "metadata": {},
     "output_type": "execute_result"
    }
   ],
   "source": [
    "train['data'][0]['paragraphs'][0]"
   ]
  },
  {
   "cell_type": "code",
   "execution_count": 21,
   "id": "aa54a704-9cc4-4bce-a38c-d00cebffdb80",
   "metadata": {},
   "outputs": [],
   "source": [
    "number_of_contents = len(train[\"data\"])\n",
    "bound = number_of_contents\n",
    "\n",
    "contexts = []\n",
    "contexts2 = []\n",
    "questions = []\n",
    "\n",
    "for i in range(bound):\n",
    "    for j in range(len(train[\"data\"][i][\"paragraphs\"])):\n",
    "        if len(train[\"data\"][i][\"paragraphs\"][j][\"qas\"]) > 0:\n",
    "            contexts.append(train[\"data\"][i][\"paragraphs\"][j][\"context\"])\n",
    "            contexts2.append(\n",
    "                {\n",
    "                    \"id\": train[\"data\"][i][\"paragraphs\"][j][\"paragraph_id\"],\n",
    "                    \"contents\": train[\"data\"][i][\"paragraphs\"][j][\"context\"],\n",
    "                }\n",
    "            )\n",
    "            questions.append(train[\"data\"][i][\"paragraphs\"][j][\"qas\"][0][\"question\"])"
   ]
  },
  {
   "cell_type": "code",
   "execution_count": 22,
   "id": "88fac0ac-874a-4135-9ac4-eea1f9d70422",
   "metadata": {},
   "outputs": [],
   "source": [
    "with open(\"./data/index/train2.json\", \"w\", encoding=\"utf8\") as f:\n",
    "    json.dump(contexts2, f)"
   ]
  },
  {
   "cell_type": "code",
   "execution_count": 5,
   "id": "be0ee47e-e887-4877-9d8a-baf79f29b639",
   "metadata": {},
   "outputs": [
    {
     "data": {
      "text/plain": [
       "['방사성핵종 별 공기 부피당 방사능 농도(Bq/m3 )는 부피당 분진 농도(μg/L)와 질량당 방사능 농도(Bq/kg) 값을 이용하여 계산 가능하다. 분진이 흩날릴 가능성이 있는 작업 지점에 설치한 광학입자계수기(OPC, Optical Particle Counter)를 활용한 계측과 채취시료의 방사능분석 의뢰 등을 통하여 이 값들을 각각 얻을 수 있다. 선량환산인자(DCF, Dose Conversion Factor)는 원료물질 등이 함유한 방사성핵종의 종류 외에 분진 입자의 크기 및 분포, 밀도, 기하학적 모양, 흡수형태 등 물리화학적 형태에 따라 그 값이 크게 달라진다. 입자의 크기와 분포는 앞서 언급한 OPC를 분석하여 얻은 공기역학적 방사능 중간직경(AMAD, Activity Median Aerodynamic Diameter)과 직경분포에 따른 분산(GSD, Geometric Standard Deviation)으로 결정되며, 입자의 밀도는 Pycnometer 등의 밀도측정장비로 얻을 수 있다. 모양인자는 1로 통일하여 적용되는데 이 값은 1에 가까운 구형일수록 보수적인 평가가 이루어진다는 해외 연구결과를 바탕으로 볼 때 합리적이다.',\n",
       " '2015년 장비 취득 중 α·β counter는 표면오염도 검사를 위한 측정장비로써 문지름검사 시 험지를 측정시료로 사용할 수 있어 면적에 따른 방사선의 확인이 가능하여 가공제품 안전기준 중 공기누출 및 신체전이여부의 정확한 평가를 위해 취득하였다. 전처리 장비는 가공제품 시료 수 증가 및 가공제품의 특성상 회화율이 높아 대용량의 전처리가 필요하다고 판단되어 기존의 장비를 증량하였으며 실험초자의 세척 장비는 방사능분석 실험의 특 성 상 초자 또는 장비의 오염은 분석 결과의 치명적인 오류를 초래할 수 있어 이에 대한 영향을 최소화하기 위하여 해당 장비들을 취득하였다. 또한 방사능분석의 방사성 추적자 용액( 229Th, 232U)과 알파핵종의 분석과정에서 사용되는 HNO3, HCl, HF 와 같은 강 산성 용액들의 위험으로부터 실험자의 안전을 위해 안구세척기와 비 상샤워기를 설치하였으며 취득장비에 대한 내용을 나타내었다.',\n",
       " '천연방사성 핵종이 함유된 원료를 사용하여 제조된 가공제품은 기능성 건강제품으로 광고되는 속옷이나 벨트와 같은 생활제품부터 타일, 시멘트, 페인트 등과 같은 건축자재에 이르기까지 다양하다. 이와 같이 가공제품 특성상 일반 국민의 생활에 밀접하게 연관되어 광범위하게 적용․생산되고, 온·오프라인 마켓을 통해 유통되므로, 생활방사선법의 가공제품 안전기준 적합 여부를 주기적으로 평가하고 있다. 본 안전재단은 원자력안전위원회로부터 생활주변방사선 전문기관으로 지정 받아 가공제품 중 232Th, 235U, 238U와 이 핵종의 붕괴계열 핵종 및 40K의 천연방사성 핵종에 의해 방출되는 생활주변방사선으로부터 국민의 삶의 질과 공공의 안전성 향상을 위해 가공제품에 대한 생활주변방사선 안전관리 실태조사를 수행하고 있다.']"
      ]
     },
     "execution_count": 5,
     "metadata": {},
     "output_type": "execute_result"
    }
   ],
   "source": [
    "contexts[:3]"
   ]
  },
  {
   "cell_type": "code",
   "execution_count": 6,
   "id": "0e3bb10e-e2e1-4432-8f84-4adb8e9589f1",
   "metadata": {},
   "outputs": [
    {
     "data": {
      "text/plain": [
       "['공기역학적 방사능 중간직경은 무엇을 분석하여 얻었어',\n",
       " '신체 전이 여부와 공기 누출의 확실한 평가를 위해 있어야 할 측정장비가 뭐야',\n",
       " '생활제품부터 건축자재에 이르기까지 다양한 가공제품은 무엇이 함유된 원료를 사용하여 만드니']"
      ]
     },
     "execution_count": 6,
     "metadata": {},
     "output_type": "execute_result"
    }
   ],
   "source": [
    "questions[:3]"
   ]
  },
  {
   "cell_type": "markdown",
   "id": "a4511917-2920-4256-9389-ac1387d3d075",
   "metadata": {},
   "source": [
    "### Model"
   ]
  },
  {
   "cell_type": "code",
   "execution_count": 7,
   "id": "3c2f51bc-4cd5-4476-841d-f80b1fa80aef",
   "metadata": {},
   "outputs": [],
   "source": [
    "bm25 = BM25Okapi([doc.split(' ') for doc in contexts])"
   ]
  },
  {
   "cell_type": "code",
   "execution_count": 11,
   "id": "0dd825a0-3f0c-4cfd-b794-e0661598ff4c",
   "metadata": {},
   "outputs": [
    {
     "data": {
      "text/plain": [
       "123552"
      ]
     },
     "execution_count": 11,
     "metadata": {},
     "output_type": "execute_result"
    }
   ],
   "source": [
    "len(questions)"
   ]
  },
  {
   "cell_type": "code",
   "execution_count": 9,
   "id": "ef1ea271-997e-4197-b150-f932e4ffb70f",
   "metadata": {},
   "outputs": [],
   "source": [
    "def get_top_n(q, n=10):\n",
    "    return bm25.get_top_n(q, contexts, n=n)"
   ]
  },
  {
   "cell_type": "code",
   "execution_count": null,
   "id": "cf11d8d4-db2e-45da-b7db-4f4a55050270",
   "metadata": {},
   "outputs": [],
   "source": [
    "answer = Parallel(n_jobs=8)(\n",
    "    delayed(get_top_n)(q) for q in tqdm([question.split(\" \") for question in questions])\n",
    ")"
   ]
  },
  {
   "cell_type": "code",
   "execution_count": null,
   "id": "fac95b96-6647-4fae-820b-e8ffa5de2a93",
   "metadata": {},
   "outputs": [],
   "source": [
    "answer = []\n",
    "for q in tqdm([question.split(' ') for question in questions]):\n",
    "    answer.append(bm25.get_top_n(q, contexts, n=10))"
   ]
  },
  {
   "cell_type": "code",
   "execution_count": null,
   "id": "72a0e92f-f47d-4f1f-ae55-c244fd7cf562",
   "metadata": {},
   "outputs": [],
   "source": [
    "accumulated_RR = 0\n",
    "\n",
    "for index, value in enumerate(answer):\n",
    "    for index_, value_ in enumerate(answer[index]):\n",
    "        if value_ == contexts[index]:\n",
    "            accumulated_RR += 1/(1 + index_)\n",
    "\n",
    "MRR = accumulated_RR/(len(answer))\n",
    "MRR"
   ]
  },
  {
   "cell_type": "markdown",
   "id": "a293cbf8-2eb4-4297-a3c6-aac2161b371c",
   "metadata": {},
   "source": [
    "# bm25 Test Set 추론"
   ]
  },
  {
   "cell_type": "markdown",
   "id": "f5504af2-bf0b-48f9-9bf2-6f2ff53939b7",
   "metadata": {},
   "source": [
    "### DATA"
   ]
  },
  {
   "cell_type": "code",
   "execution_count": null,
   "id": "7bb1a8da-f898-41a2-8ada-284ff8a86f93",
   "metadata": {},
   "outputs": [],
   "source": [
    "questions = list(test_question['question_text'])\n",
    "\n",
    "contexts = []\n",
    "par_ids = []\n",
    "\n",
    "for i in range(len(test_data['data'])):\n",
    "    for j in range(len(test_data['data'][i]['paragraphs'])):\n",
    "        contexts.append(test_data['data'][i]['paragraphs'][j]['context'])\n",
    "        par_ids.append(test_data['data'][i]['paragraphs'][j]['paragraph_id'])"
   ]
  },
  {
   "cell_type": "code",
   "execution_count": null,
   "id": "9dc9578f-78b9-405a-a383-6e05efdb3bca",
   "metadata": {},
   "outputs": [],
   "source": [
    "questions[:3]"
   ]
  },
  {
   "cell_type": "code",
   "execution_count": null,
   "id": "b52f7e53-39e3-406c-a98e-e55fa0fe345e",
   "metadata": {
    "tags": []
   },
   "outputs": [],
   "source": [
    "contexts[:3]"
   ]
  },
  {
   "cell_type": "code",
   "execution_count": null,
   "id": "70aa5ec2-0687-4cb0-82ee-40f9af726128",
   "metadata": {},
   "outputs": [],
   "source": [
    "par_ids[:3]"
   ]
  },
  {
   "cell_type": "markdown",
   "id": "b11a7d18-c29e-4d95-af53-0e3c52107db3",
   "metadata": {},
   "source": [
    "### Model"
   ]
  },
  {
   "cell_type": "code",
   "execution_count": null,
   "id": "08c398a1-7138-47cf-8068-7ba49b58e83f",
   "metadata": {},
   "outputs": [],
   "source": [
    "bm25 = BM25Okapi([doc.split(' ') for doc in contexts])"
   ]
  },
  {
   "cell_type": "code",
   "execution_count": null,
   "id": "2e311393-2c4e-4c46-a5e8-7ed61860b3ff",
   "metadata": {},
   "outputs": [],
   "source": [
    "answer = []\n",
    "for q in [question.split(' ') for question in questions]:\n",
    "    answer.append(bm25.get_top_n(q, contexts, n=10))"
   ]
  },
  {
   "cell_type": "code",
   "execution_count": null,
   "id": "6273250b-283b-4bde-8da2-466ab46baa77",
   "metadata": {},
   "outputs": [],
   "source": [
    "for i, a in enumerate(answer):\n",
    "    for j, b in enumerate(a):\n",
    "        for k, c in enumerate(contexts):\n",
    "            if b == c:\n",
    "                if j == 0:\n",
    "                    prediction = par_ids[k]\n",
    "                elif j < 9:\n",
    "                    prediction = prediction + ',' + par_ids[k]\n",
    "                else:\n",
    "                    prediction = prediction + ',' + par_ids[k]\n",
    "                    sample.loc[i, 'paragraph_id'] = prediction\n",
    "sample"
   ]
  },
  {
   "cell_type": "code",
   "execution_count": null,
   "id": "d14e7d0a-d908-40e9-8837-053f830cfaa9",
   "metadata": {},
   "outputs": [],
   "source": [
    "sample.to_csv('##### prediction 파일 경로 #####', index=False)"
   ]
  }
 ],
 "metadata": {
  "kernelspec": {
   "display_name": "Python 3 (ipykernel)",
   "language": "python",
   "name": "python3"
  },
  "language_info": {
   "codemirror_mode": {
    "name": "ipython",
    "version": 3
   },
   "file_extension": ".py",
   "mimetype": "text/x-python",
   "name": "python",
   "nbconvert_exporter": "python",
   "pygments_lexer": "ipython3",
   "version": "3.7.10"
  }
 },
 "nbformat": 4,
 "nbformat_minor": 5
}
